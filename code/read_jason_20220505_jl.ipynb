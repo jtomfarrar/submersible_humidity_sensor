{
 "cells": [
  {
   "cell_type": "markdown",
   "id": "78dd4eb6",
   "metadata": {},
   "source": [
    "# Read example thermometer data files from Jason Smith\n",
    "\n",
    "Files are\n",
    "```\n",
    "./603_05May22.log\n",
    "./604_05May22.log\n",
    "./605_05May22.log\n",
    "```\n",
    "\n",
    "Parses data lines as regular expressions, and date stamps as DateTimes.\n",
    "\n",
    "Jupyter IJulia notebook written in Julia; run in Julia 1.8.1."
   ]
  },
  {
   "cell_type": "code",
   "execution_count": 1,
   "id": "ef7d48fb",
   "metadata": {},
   "outputs": [
    {
     "data": {
      "text/plain": [
       "\"qt5agg\""
      ]
     },
     "execution_count": 1,
     "metadata": {},
     "output_type": "execute_result"
    }
   ],
   "source": [
    "using Dates\n",
    "\n",
    "using PyPlot\n",
    "ENV[ \"MPLBACKEND\" ] = \"qt5agg\"\n",
    "\n",
    "#using MAT\n",
    "#using NetCDF"
   ]
  },
  {
   "cell_type": "code",
   "execution_count": 2,
   "id": "b0fb57e2",
   "metadata": {},
   "outputs": [
    {
     "data": {
      "text/plain": [
       "get_data"
      ]
     },
     "execution_count": 2,
     "metadata": {},
     "output_type": "execute_result"
    }
   ],
   "source": [
    "\"Read and parse lines from Jason Smith's 2022-05-05 data file with time stamps.\"\n",
    "function get_data(\n",
    "        filename, \n",
    "        nheaderlines=7, nfooterlines=11,\n",
    "        data_ex = Regex( \"^\\\\[([0-9]{2}:[0-9]{2}:[0-9.]{6})\\\\]\"\n",
    "                *\" ([0-9]{1,}),\"\n",
    "                *\" ([0-9.]{1,})\\$\"),\n",
    "        df=DateFormat(\"HH:MM:SS.sss\")\n",
    "    )\n",
    "    \n",
    "    nlines = countlines( filename ) # count input lines in file\n",
    "    ndata = nlines - nheaderlines - nfooterlines # ideal max data length\n",
    "    \n",
    "    # initialize arrays\n",
    "    dtime = Array{DateTime, 1}( undef, ndata )\n",
    "    msec = Array{Int64, 1}( undef, ndata )\n",
    "    temp = Array{Float32, 1}( undef, ndata )\n",
    "    \n",
    "    i = 0 #number of lines skipped or read\n",
    "    idata = 0 #number of data lines read\n",
    "    \n",
    "    open( filename, \"r\" ) do a\n",
    "        while i < nheaderlines\n",
    "            i += 1\n",
    "            readline(a)\n",
    "        end\n",
    "        while idata < ndata\n",
    "            i += 1\n",
    "            l = readline(a)\n",
    "            # parse 1 line\n",
    "            m = match( data_ex, l )\n",
    "            if !isnothing(m)\n",
    "                idata += 1\n",
    "                dtime[idata] = DateTime( m[:1], df )\n",
    "                msec[idata] = parse( Int64, m[:2] )\n",
    "                temp[idata] = parse( Float32, m[:3] )\n",
    "            end\n",
    "        end\n",
    "    end\n",
    "    \n",
    "    return dtime, msec, temp\n",
    "end\n",
    "\n",
    "dt2min(dt) = (dt-dt[1])./Minute(1.) # convert time to number in minutes\n"
   ]
  },
  {
   "cell_type": "code",
   "execution_count": 9,
   "id": "9c5e66fe",
   "metadata": {},
   "outputs": [
    {
     "data": {
      "image/png": "[encoded data removed]",
      "text/plain": [
       "Figure(PyObject <Figure size 640x480 with 1 Axes>)"
      ]
     },
     "metadata": {},
     "output_type": "display_data"
    },
    {
     "data": {
      "text/plain": [
       "PyObject <matplotlib.legend.Legend object at 0x7fbdf7137fd0>"
      ]
     },
     "execution_count": 9,
     "metadata": {},
     "output_type": "execute_result"
    }
   ],
   "source": [
    "filenames = [\"603_05May22.log\", \"605_05May22.log\", \"605_05May22.log\"]\n",
    "\n",
    "dtime, msec, temp = get_data( filenames[1] )\n",
    "plot( dt2min(dtime), temp )\n",
    "\n",
    "dtime, msec, temp = get_data( filenames[2] )\n",
    "plot( dt2min(dtime), temp )\n",
    "\n",
    "dtime, msec, temp = get_data( filenames[3] )\n",
    "plot( dt2min(dtime), temp )\n",
    "\n",
    "ylabel(\"T (°C)\")\n",
    "xlabel(\"time (minute)\")\n",
    "legend([\"603\", \"604\", \"605\"])"
   ]
  },
  {
   "cell_type": "code",
   "execution_count": null,
   "id": "6ad1b124",
   "metadata": {},
   "outputs": [],
   "source": []
  },
  {
   "cell_type": "code",
   "execution_count": 12,
   "id": "b7928f51",
   "metadata": {},
   "outputs": [],
   "source": [
    "# line-by-line testing\n",
    "\n",
    "filename=\"603_05May22.log\"\n",
    "nheaderlines=7\n",
    "nfooterlines=11\n",
    "data_ex = Regex( \"^\\\\[([0-9]{2}:[0-9]{2}:[0-9.]{6})\\\\]\"\n",
    "                *\" ([0-9]{1,}),\"\n",
    "                *\" ([0-9.]{1,})\\$\")\n",
    "df=DateFormat(\"HH:MM:SS.sss\")\n",
    "\n",
    "    \n",
    "    nlines = countlines( filename ) # count input lines in file\n",
    "    ndata = nlines - nheaderlines - nfooterlines # ideal max data length\n",
    "    \n",
    "    # initialize arrays\n",
    "    dtime = Array{DateTime, 1}( undef, ndata )\n",
    "    msec = Array{Int64, 1}( undef, ndata )\n",
    "    temp = Array{Float32, 1}( undef, ndata )\n",
    "    \n",
    "#     i = 0 #number of lines skipped or read\n",
    "#     idata = 0 #number of data lines read\n",
    "\n",
    "    open( filename, \"r\" ) do a\n",
    "        i = 0 #number of lines skipped or read\n",
    "        idata = 0 #number of data lines read\n",
    "        while i < nheaderlines\n",
    "            i += 1\n",
    "            readline(a)\n",
    "        end\n",
    "        \n",
    "        while idata < ndata\n",
    "            i += 1\n",
    "            l = readline(a)\n",
    "#             println(l)\n",
    "            # parse 1 line\n",
    "#             println(m)\n",
    "            m = match( data_ex, l )\n",
    "            if !isnothing(m)\n",
    "                idata += 1\n",
    "                dtime[idata] = DateTime( m[:1], df )\n",
    "                msec[idata] = parse( Int64, m[:2] )\n",
    "                temp[idata] = parse( Float32, m[:3] )\n",
    "            end\n",
    "        end\n",
    "    end\n",
    "\n",
    "# example data line\n",
    "# [14:52:49.776] 500, 27.0644\n",
    "# Regex matches \n",
    "# ^\\[[0-9]{2}:[0-9]{2}:[0-9.]{6}\\] [0-9]{3,}, [0-9.]{7,}$\n",
    "# Regex divides into 5 numeric groups with ():\n",
    "# ^\\[([0-9]{2}):([0-9]{2}):([0-9.]{6})\\] ([0-9]{3,}), ([0-9.]{7,})$\n",
    "# Regex divides into datestring and 2 numeric groups:\n",
    "# ^\\[([0-9]{2}:[0-9]{2}:[0-9.]{6})\\] ([0-9]{3,}), ([0-9.]{7,})$"
   ]
  }
 ],
 "metadata": {
  "kernelspec": {
   "display_name": "Julia 1.8.1",
   "language": "julia",
   "name": "julia-1.8"
  },
  "language_info": {
   "file_extension": ".jl",
   "mimetype": "application/julia",
   "name": "julia",
   "version": "1.8.1"
  }
 },
 "nbformat": 4,
 "nbformat_minor": 5
}
